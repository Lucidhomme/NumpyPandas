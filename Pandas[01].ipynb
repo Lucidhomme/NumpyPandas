{
 "cells": [
  {
   "cell_type": "markdown",
   "metadata": {},
   "source": [
    "# Pandas"
   ]
  },
  {
   "cell_type": "markdown",
   "metadata": {},
   "source": [
    "* 분석하려는 데이터는 대부분 시계열(Series)이거나 표(Table) 형태로 정의해야한다.\n",
    "* Series 클래스와 DataFrame 클래스를 제공한다"
   ]
  },
  {
   "cell_type": "code",
   "execution_count": 3,
   "metadata": {},
   "outputs": [],
   "source": [
    "import pandas as pd\n",
    "import numpy as np\n",
    "import matplotlib.pyplot as plt"
   ]
  },
  {
   "cell_type": "markdown",
   "metadata": {},
   "source": [
    "### Series 클래스\n",
    "* 넘파이의 1차원배열과 비슷하지만 각 데이터의 의미를 표시하는 인덱스를 붙일 수 있다\n",
    "* series = index + value"
   ]
  },
  {
   "cell_type": "code",
   "execution_count": 4,
   "metadata": {},
   "outputs": [
    {
     "name": "stdout",
     "output_type": "stream",
     "text": [
      "[1 2 3 4 'jslim']\n",
      "object\n"
     ]
    }
   ],
   "source": [
    "# Series와 numpy array 비교\n",
    "arr = np.array([1,2,3,4,'jslim'] , dtype=np.object)\n",
    "print(arr)\n",
    "print(arr.dtype)"
   ]
  },
  {
   "cell_type": "code",
   "execution_count": 10,
   "metadata": {},
   "outputs": [
    {
     "name": "stdout",
     "output_type": "stream",
     "text": [
      "0    1.0\n",
      "1    2.0\n",
      "2    3.0\n",
      "3    4.0\n",
      "dtype: float64\n",
      "[1. 2. 3. 4.]\n",
      "<class 'numpy.ndarray'>\n",
      "RangeIndex(start=0, stop=4, step=1)\n",
      "<class 'pandas.core.indexes.range.RangeIndex'>\n"
     ]
    }
   ],
   "source": [
    "s = pd.Series([1,2,3,4] , dtype=np.float64)\n",
    "print(s)\n",
    "print(s.values)\n",
    "print(type(s.values))\n",
    "print(s.index)\n",
    "print(type(s.index))"
   ]
  },
  {
   "cell_type": "code",
   "execution_count": 11,
   "metadata": {},
   "outputs": [],
   "source": [
    "def seriesinfo(s) :\n",
    "    print('value : ', s.values)\n",
    "    print('value type : ', type(s.values))\n",
    "    print('index : ',s.index)\n",
    "    print('index type : ', type(s.index))\n",
    "    print('index + value : ', s)"
   ]
  },
  {
   "cell_type": "code",
   "execution_count": 16,
   "metadata": {},
   "outputs": [
    {
     "name": "stdout",
     "output_type": "stream",
     "text": [
      "value :  [ 3333  4444  5555 11111]\n",
      "value type :  <class 'numpy.ndarray'>\n",
      "index :  Index(['서울', '대구', '부산', '광주'], dtype='object')\n",
      "index type :  <class 'pandas.core.indexes.base.Index'>\n",
      "index + value :  서울     3333\n",
      "대구     4444\n",
      "부산     5555\n",
      "광주    11111\n",
      "dtype: int64\n"
     ]
    }
   ],
   "source": [
    "s = pd.Series([3333, 4444, 5555, 11111], dtype = np.int64, index=['서울','대구','부산','광주'])\n",
    "seriesinfo(s)"
   ]
  },
  {
   "cell_type": "code",
   "execution_count": 17,
   "metadata": {},
   "outputs": [
    {
     "name": "stdout",
     "output_type": "stream",
     "text": [
      "지역별\n",
      "서울     3333\n",
      "대구     4444\n",
      "부산     5555\n",
      "광주    11111\n",
      "dtype: int64\n"
     ]
    }
   ],
   "source": [
    "s.index.name = '지역별'\n",
    "print(s)"
   ]
  },
  {
   "cell_type": "code",
   "execution_count": 18,
   "metadata": {},
   "outputs": [
    {
     "data": {
      "text/plain": [
       "지역별\n",
       "서울     33.33\n",
       "대구     44.44\n",
       "부산     55.55\n",
       "광주    111.11\n",
       "dtype: float64"
      ]
     },
     "execution_count": 18,
     "metadata": {},
     "output_type": "execute_result"
    }
   ],
   "source": [
    "s / 100"
   ]
  },
  {
   "cell_type": "code",
   "execution_count": 20,
   "metadata": {},
   "outputs": [
    {
     "data": {
      "text/plain": [
       "지역별\n",
       "서울    0.03333\n",
       "대구    0.04444\n",
       "부산    0.05555\n",
       "광주    0.11111\n",
       "dtype: float64"
      ]
     },
     "execution_count": 20,
     "metadata": {},
     "output_type": "execute_result"
    }
   ],
   "source": [
    "s / 100000"
   ]
  },
  {
   "cell_type": "markdown",
   "metadata": {},
   "source": [
    "* Series indexing"
   ]
  },
  {
   "cell_type": "code",
   "execution_count": 31,
   "metadata": {},
   "outputs": [
    {
     "data": {
      "text/plain": [
       "지역별\n",
       "서울    3333\n",
       "부산    5555\n",
       "dtype: int64"
      ]
     },
     "execution_count": 31,
     "metadata": {},
     "output_type": "execute_result"
    }
   ],
   "source": [
    "s[['서울' , '부산']]"
   ]
  },
  {
   "cell_type": "code",
   "execution_count": 34,
   "metadata": {},
   "outputs": [
    {
     "data": {
      "text/plain": [
       "False"
      ]
     },
     "execution_count": 34,
     "metadata": {},
     "output_type": "execute_result"
    }
   ],
   "source": [
    "'강원' in s"
   ]
  },
  {
   "cell_type": "code",
   "execution_count": 35,
   "metadata": {},
   "outputs": [
    {
     "name": "stdout",
     "output_type": "stream",
     "text": [
      "key : 서울, value = 3333\n",
      "key : 대구, value = 4444\n",
      "key : 부산, value = 5555\n",
      "key : 광주, value = 11111\n"
     ]
    }
   ],
   "source": [
    "for key, value in s.items() :\n",
    "    print('key : {}, value = {}'.format(key, value))"
   ]
  },
  {
   "cell_type": "code",
   "execution_count": 40,
   "metadata": {},
   "outputs": [
    {
     "name": "stdout",
     "output_type": "stream",
     "text": [
      "value :  [ 1.  5. -8. 10.]\n",
      "value type :  <class 'numpy.ndarray'>\n",
      "index :  Index(['c', 'b', 'a', 'k'], dtype='object')\n",
      "index type :  <class 'pandas.core.indexes.base.Index'>\n",
      "index + value :  c     1.0\n",
      "b     5.0\n",
      "a    -8.0\n",
      "k    10.0\n",
      "dtype: float64\n"
     ]
    }
   ],
   "source": [
    "s2 = pd.Series({'c' : '1', 'b' : '5', 'a' : -8, 'k' : 10}, dtype = np.float64)\n",
    "seriesinfo(s2)"
   ]
  },
  {
   "cell_type": "code",
   "execution_count": 41,
   "metadata": {},
   "outputs": [
    {
     "name": "stdout",
     "output_type": "stream",
     "text": [
      "fancy [0,2] indexing : c    1.0\n",
      "a   -8.0\n",
      "dtype: float64\n",
      "boolean s2%2 ==0 : a    -8.0\n",
      "k    10.0\n",
      "dtype: float64\n"
     ]
    }
   ],
   "source": [
    "# Fancy indexing & Boolean indexing\n",
    "print('fancy [0,2] indexing : {}'.format( s2[ [0,2] ] ) )\n",
    "# boolean indexing 2의 배수인 것\n",
    "print('boolean s2%2 ==0 : {}'.format( s2[s2%2==0] ) )"
   ]
  },
  {
   "cell_type": "code",
   "execution_count": 43,
   "metadata": {},
   "outputs": [
    {
     "name": "stdout",
     "output_type": "stream",
     "text": [
      "value :  [   nan 11111.  4444.  3333.]\n",
      "value type :  <class 'numpy.ndarray'>\n",
      "index :  Index(['광주', '대전', '부산', '서울'], dtype='object')\n",
      "index type :  <class 'pandas.core.indexes.base.Index'>\n",
      "index + value :  광주        NaN\n",
      "대전    11111.0\n",
      "부산     4444.0\n",
      "서울     3333.0\n",
      "dtype: float64\n"
     ]
    }
   ],
   "source": [
    "# 인덱스의 라벨은 문자열뿐만 아니라 날짜, 시간, 정수등 가능\n",
    "s3 = pd.Series({ '서울' : 3333, '부산' : 4444, '인천' : 5555, '대전' : 11111 }, dtype = np.int32, index = ['광주','대전','부산','서울'])\n",
    "seriesinfo(s3)"
   ]
  },
  {
   "cell_type": "code",
   "execution_count": 44,
   "metadata": {},
   "outputs": [
    {
     "name": "stdout",
     "output_type": "stream",
     "text": [
      "a    NaN\n",
      "b    NaN\n",
      "c    NaN\n",
      "k    NaN\n",
      "광주   NaN\n",
      "대구   NaN\n",
      "부산   NaN\n",
      "서울   NaN\n",
      "dtype: float64\n"
     ]
    }
   ],
   "source": [
    "diff_s = s - s2 #서로 인덱스가 달라 연산이 되지않음\n",
    "print(diff_s)"
   ]
  },
  {
   "cell_type": "code",
   "execution_count": null,
   "metadata": {},
   "outputs": [],
   "source": [
    "# A공장의 2019-01-01 부터 10일간의 생산량을 Series 저장\n",
    "# 생산량은 평균이 50이고 편차가 5 인 정규분포 생성(정수)\n",
    "\n",
    "# B공장의 2019-01-01부터 10일간의 생산량을 Series 저장\n",
    "# 생산량은 평균이 70이고 편차가 8인 정규분포 생성(정수)\n",
    "\n",
    "# 날짜별로 모든 공장의 생산량 합계를 구한다면?"
   ]
  },
  {
   "cell_type": "code",
   "execution_count": 45,
   "metadata": {},
   "outputs": [],
   "source": [
    "import numpy as np\n",
    "import pandas as pd\n",
    "from datetime import date, datetime, timedelta\n",
    "from dateutil.parser import parse\n"
   ]
  },
  {
   "cell_type": "code",
   "execution_count": 53,
   "metadata": {},
   "outputs": [
    {
     "name": "stdout",
     "output_type": "stream",
     "text": [
      "2019-01-01    43\n",
      "2019-01-02    52\n",
      "2019-01-03    51\n",
      "2019-01-04    47\n",
      "2019-01-05    56\n",
      "2019-01-06    44\n",
      "2019-01-07    47\n",
      "2019-01-08    60\n",
      "2019-01-09    48\n",
      "2019-01-10    42\n",
      "dtype: int64\n",
      "2019-01-01    63\n",
      "2019-01-02    60\n",
      "2019-01-03    70\n",
      "2019-01-04    63\n",
      "2019-01-05    63\n",
      "2019-01-06    74\n",
      "2019-01-07    63\n",
      "2019-01-08    77\n",
      "2019-01-09    55\n",
      "2019-01-10    64\n",
      "dtype: int64\n"
     ]
    }
   ],
   "source": [
    "start_day = datetime(2019,1,1)\n",
    "# print(start_day)\n",
    "facA = pd.Series([int(x) for x in np.random.normal(50,5,(10,))   ], \n",
    "                index = [start_day + timedelta(days=x) for x in range(10) ])\n",
    "\n",
    "facB = pd.Series([int(x) for x in np.random.normal(70,8,(10,))], index = [start_day + timedelta(days=x) for x in range(10) ])\n",
    "print(facA)\n",
    "print(facB)"
   ]
  },
  {
   "cell_type": "code",
   "execution_count": 56,
   "metadata": {},
   "outputs": [
    {
     "name": "stdout",
     "output_type": "stream",
     "text": [
      "2019-01-03 00:00:00\n"
     ]
    }
   ],
   "source": [
    "# 단위테스트를 위한 셀\n",
    "# type(np.random.normal(50,5,(10,)))\n",
    "print(start_day + timedelta(days=2))"
   ]
  },
  {
   "cell_type": "code",
   "execution_count": 58,
   "metadata": {},
   "outputs": [
    {
     "name": "stdout",
     "output_type": "stream",
     "text": [
      "2019-01-01    106\n",
      "2019-01-02    112\n",
      "2019-01-03    121\n",
      "2019-01-04    110\n",
      "2019-01-05    119\n",
      "2019-01-06    118\n",
      "2019-01-07    110\n",
      "2019-01-08    137\n",
      "2019-01-09    103\n",
      "2019-01-10    106\n",
      "dtype: int64\n"
     ]
    }
   ],
   "source": [
    "print(facA + facB)"
   ]
  },
  {
   "cell_type": "code",
   "execution_count": null,
   "metadata": {},
   "outputs": [],
   "source": []
  },
  {
   "cell_type": "code",
   "execution_count": null,
   "metadata": {},
   "outputs": [],
   "source": []
  },
  {
   "cell_type": "code",
   "execution_count": null,
   "metadata": {},
   "outputs": [],
   "source": []
  }
 ],
 "metadata": {
  "kernelspec": {
   "display_name": "Python 3",
   "language": "python",
   "name": "python3"
  },
  "language_info": {
   "codemirror_mode": {
    "name": "ipython",
    "version": 3
   },
   "file_extension": ".py",
   "mimetype": "text/x-python",
   "name": "python",
   "nbconvert_exporter": "python",
   "pygments_lexer": "ipython3",
   "version": "3.6.5"
  }
 },
 "nbformat": 4,
 "nbformat_minor": 2
}
