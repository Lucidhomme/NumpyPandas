{
 "cells": [
  {
   "cell_type": "markdown",
   "metadata": {},
   "source": [
    "* 배열의 크기 변형\n",
    "* reshape"
   ]
  },
  {
   "cell_type": "code",
   "execution_count": 2,
   "metadata": {},
   "outputs": [],
   "source": [
    "import numpy as np"
   ]
  },
  {
   "cell_type": "code",
   "execution_count": 3,
   "metadata": {},
   "outputs": [],
   "source": [
    "def aryinfo(ary):\n",
    "    print('type : {}'.format(type(ary)))\n",
    "    print('shape : {}'.format(ary.shape))\n",
    "    print('dimension : {}'.format(ary.ndim))\n",
    "    print('dtype : {}'.format(ary.dtype))\n",
    "    print('array data : \\n', ary)"
   ]
  },
  {
   "cell_type": "code",
   "execution_count": 6,
   "metadata": {},
   "outputs": [
    {
     "name": "stdout",
     "output_type": "stream",
     "text": [
      "type : <class 'numpy.ndarray'>\n",
      "shape : (12,)\n",
      "dimension : 1\n",
      "dtype : int32\n",
      "array data : \n",
      " [ 0  1  2  3  4  5  6  7  8  9 10 11]\n"
     ]
    }
   ],
   "source": [
    "arr = np.arange(0,12,1)\n",
    "aryinfo(arr)"
   ]
  },
  {
   "cell_type": "code",
   "execution_count": 10,
   "metadata": {},
   "outputs": [
    {
     "name": "stdout",
     "output_type": "stream",
     "text": [
      "type : <class 'numpy.ndarray'>\n",
      "shape : (4, 3)\n",
      "dimension : 2\n",
      "dtype : int32\n",
      "array data : \n",
      " [[ 0  1  2]\n",
      " [ 3  4  5]\n",
      " [ 6  7  8]\n",
      " [ 9 10 11]]\n"
     ]
    }
   ],
   "source": [
    "arr1 = arr.reshape(4,3) #행의 개수에 따라 자동으로 열배열되긴 함 \n",
    "aryinfo(arr1)"
   ]
  },
  {
   "cell_type": "code",
   "execution_count": 11,
   "metadata": {},
   "outputs": [
    {
     "name": "stdout",
     "output_type": "stream",
     "text": [
      "type : <class 'numpy.ndarray'>\n",
      "shape : (2, 2, 3)\n",
      "dimension : 3\n",
      "dtype : int32\n",
      "array data : \n",
      " [[[ 0  1  2]\n",
      "  [ 3  4  5]]\n",
      "\n",
      " [[ 6  7  8]\n",
      "  [ 9 10 11]]]\n"
     ]
    }
   ],
   "source": [
    "arr1 = arr.reshape(2,2,-1)\n",
    "aryinfo(arr1)"
   ]
  },
  {
   "cell_type": "markdown",
   "metadata": {},
   "source": [
    "* 무조건 1차원 배열로 변경하고 싶다면\n",
    "* flatten()\n",
    "* ravel()\n"
   ]
  },
  {
   "cell_type": "code",
   "execution_count": 12,
   "metadata": {},
   "outputs": [
    {
     "name": "stdout",
     "output_type": "stream",
     "text": [
      "type : <class 'numpy.ndarray'>\n",
      "shape : (5,)\n",
      "dimension : 1\n",
      "dtype : int32\n",
      "array data : \n",
      " [0 1 2 3 4]\n"
     ]
    }
   ],
   "source": [
    "arr = np.arange(5)\n",
    "aryinfo(arr)"
   ]
  },
  {
   "cell_type": "code",
   "execution_count": 16,
   "metadata": {},
   "outputs": [
    {
     "name": "stdout",
     "output_type": "stream",
     "text": [
      "type : <class 'numpy.ndarray'>\n",
      "shape : (5, 1)\n",
      "dimension : 2\n",
      "dtype : int32\n",
      "array data : \n",
      " [[0]\n",
      " [1]\n",
      " [2]\n",
      " [3]\n",
      " [4]]\n"
     ]
    }
   ],
   "source": [
    "arr1 = arr.reshape(5,1)  # 물리적인 메모리의 주소가 없음, view의 기능\n",
    "aryinfo(arr1)"
   ]
  },
  {
   "cell_type": "code",
   "execution_count": 17,
   "metadata": {},
   "outputs": [
    {
     "data": {
      "text/plain": [
       "array([0, 1, 2, 3, 4])"
      ]
     },
     "execution_count": 17,
     "metadata": {},
     "output_type": "execute_result"
    }
   ],
   "source": [
    "arr1.flatten()"
   ]
  },
  {
   "cell_type": "code",
   "execution_count": 18,
   "metadata": {},
   "outputs": [
    {
     "data": {
      "text/plain": [
       "array([0, 1, 2, 3, 4])"
      ]
     },
     "execution_count": 18,
     "metadata": {},
     "output_type": "execute_result"
    }
   ],
   "source": [
    "arr1.ravel()"
   ]
  },
  {
   "cell_type": "code",
   "execution_count": 19,
   "metadata": {},
   "outputs": [
    {
     "name": "stdout",
     "output_type": "stream",
     "text": [
      "type : <class 'numpy.ndarray'>\n",
      "shape : (1, 5)\n",
      "dimension : 2\n",
      "dtype : int32\n",
      "array data : \n",
      " [[0 1 2 3 4]]\n"
     ]
    }
   ],
   "source": [
    "arr2 = arr.reshape(1,5).copy() # copy()는 배열에 대한 다른 객체를 만듬\n",
    "aryinfo(arr2)"
   ]
  },
  {
   "cell_type": "markdown",
   "metadata": {},
   "source": [
    "# 배열 연결(concatenate)\n",
    "* hstack\n",
    "* vstack\n",
    "* dstack\n",
    "* stack\n",
    "* r_\n",
    "* c_\n",
    "* tile"
   ]
  },
  {
   "cell_type": "code",
   "execution_count": 28,
   "metadata": {
    "collapsed": true
   },
   "outputs": [
    {
     "name": "stdout",
     "output_type": "stream",
     "text": [
      "type : <class 'numpy.ndarray'>\n",
      "shape : (2, 3)\n",
      "dimension : 2\n",
      "dtype : float64\n",
      "array data : \n",
      " [[1. 1. 1.]\n",
      " [1. 1. 1.]]\n",
      "**************************************************\n",
      "type : <class 'numpy.ndarray'>\n",
      "shape : (2, 2)\n",
      "dimension : 2\n",
      "dtype : float64\n",
      "array data : \n",
      " [[0. 0.]\n",
      " [0. 0.]]\n",
      "**************************************************\n"
     ]
    },
    {
     "data": {
      "text/plain": [
       "array([[1., 1., 1., 0., 0.],\n",
       "       [1., 1., 1., 0., 0.]])"
      ]
     },
     "execution_count": 28,
     "metadata": {},
     "output_type": "execute_result"
    }
   ],
   "source": [
    "# hstack 행의 수가 같은 두개 이상의 배열을 옆으로 연결 열의 수가 더 많은 배열을 만들 때\n",
    "h_arr01 = np.ones((2,3))\n",
    "aryinfo(h_arr01)\n",
    "print(\"*\"*50)\n",
    "\n",
    "h_arr02 = np.zeros((2,2))\n",
    "aryinfo(h_arr02)\n",
    "print(\"*\"*50)\n",
    "\n",
    "np.hstack([h_arr01, h_arr02]) #행의 개수가 같을때만 가능하다\n"
   ]
  },
  {
   "cell_type": "code",
   "execution_count": 27,
   "metadata": {
    "collapsed": true
   },
   "outputs": [
    {
     "name": "stdout",
     "output_type": "stream",
     "text": [
      "type : <class 'numpy.ndarray'>\n",
      "shape : (2, 3)\n",
      "dimension : 2\n",
      "dtype : float64\n",
      "array data : \n",
      " [[1. 1. 1.]\n",
      " [1. 1. 1.]]\n",
      "**************************************************\n",
      "type : <class 'numpy.ndarray'>\n",
      "shape : (3, 3)\n",
      "dimension : 2\n",
      "dtype : float64\n",
      "array data : \n",
      " [[0. 0. 0.]\n",
      " [0. 0. 0.]\n",
      " [0. 0. 0.]]\n",
      "**************************************************\n"
     ]
    },
    {
     "data": {
      "text/plain": [
       "array([[1., 1., 1.],\n",
       "       [1., 1., 1.],\n",
       "       [0., 0., 0.],\n",
       "       [0., 0., 0.],\n",
       "       [0., 0., 0.]])"
      ]
     },
     "execution_count": 27,
     "metadata": {},
     "output_type": "execute_result"
    }
   ],
   "source": [
    "# vstack 열의 수가 같은 두개 이상의 배열을 위아래로 연결 열의 수가 더 많은 배열을 만들 때\n",
    "h_arr01 = np.ones((2,3))\n",
    "aryinfo(h_arr01)\n",
    "print(\"*\"*50)\n",
    "\n",
    "h_arr02 = np.zeros((3,3))\n",
    "aryinfo(h_arr02)\n",
    "print(\"*\"*50)\n",
    "\n",
    "np.vstack([h_arr01, h_arr02]) #열의 개수가 같을때만 가능하다"
   ]
  },
  {
   "cell_type": "code",
   "execution_count": 30,
   "metadata": {
    "collapsed": true
   },
   "outputs": [
    {
     "name": "stdout",
     "output_type": "stream",
     "text": [
      "type : <class 'numpy.ndarray'>\n",
      "shape : (3, 4)\n",
      "dimension : 2\n",
      "dtype : float64\n",
      "array data : \n",
      " [[1. 1. 1. 1.]\n",
      " [1. 1. 1. 1.]\n",
      " [1. 1. 1. 1.]]\n",
      "**************************************************\n",
      "type : <class 'numpy.ndarray'>\n",
      "shape : (3, 4)\n",
      "dimension : 2\n",
      "dtype : float64\n",
      "array data : \n",
      " [[0. 0. 0. 0.]\n",
      " [0. 0. 0. 0.]\n",
      " [0. 0. 0. 0.]]\n",
      "**************************************************\n",
      "type : <class 'numpy.ndarray'>\n",
      "shape : (3, 4, 2)\n",
      "dimension : 3\n",
      "dtype : float64\n",
      "array data : \n",
      " [[[1. 0.]\n",
      "  [1. 0.]\n",
      "  [1. 0.]\n",
      "  [1. 0.]]\n",
      "\n",
      " [[1. 0.]\n",
      "  [1. 0.]\n",
      "  [1. 0.]\n",
      "  [1. 0.]]\n",
      "\n",
      " [[1. 0.]\n",
      "  [1. 0.]\n",
      "  [1. 0.]\n",
      "  [1. 0.]]]\n"
     ]
    }
   ],
   "source": [
    "# shape(3,4) -> 3차원 (3,4,2)\n",
    "h_arr01 = np.ones((3,4))\n",
    "aryinfo(h_arr01)\n",
    "print(\"*\"*50)\n",
    "\n",
    "h_arr02 = np.zeros((3,4))\n",
    "aryinfo(h_arr02)\n",
    "print(\"*\"*50)\n",
    "\n",
    "aryinfo(np.dstack([h_arr01, h_arr02]) )"
   ]
  },
  {
   "cell_type": "code",
   "execution_count": 31,
   "metadata": {
    "collapsed": true
   },
   "outputs": [
    {
     "name": "stdout",
     "output_type": "stream",
     "text": [
      "type : <class 'numpy.ndarray'>\n",
      "shape : (2, 3, 4)\n",
      "dimension : 3\n",
      "dtype : float64\n",
      "array data : \n",
      " [[[1. 1. 1. 1.]\n",
      "  [1. 1. 1. 1.]\n",
      "  [1. 1. 1. 1.]]\n",
      "\n",
      " [[0. 0. 0. 0.]\n",
      "  [0. 0. 0. 0.]\n",
      "  [0. 0. 0. 0.]]]\n"
     ]
    }
   ],
   "source": [
    "aryinfo(np.stack([h_arr01, h_arr02]))"
   ]
  },
  {
   "cell_type": "code",
   "execution_count": 33,
   "metadata": {
    "collapsed": true
   },
   "outputs": [
    {
     "name": "stdout",
     "output_type": "stream",
     "text": [
      "type : <class 'numpy.ndarray'>\n",
      "shape : (6,)\n",
      "dimension : 1\n",
      "dtype : int32\n",
      "array data : \n",
      " [1 2 3 4 5 6]\n",
      "type : <class 'numpy.ndarray'>\n",
      "shape : (3, 2)\n",
      "dimension : 2\n",
      "dtype : int32\n",
      "array data : \n",
      " [[1 4]\n",
      " [2 5]\n",
      " [3 6]]\n"
     ]
    }
   ],
   "source": [
    "# 인덱서\n",
    "aryinfo(np.r_[np.array([1,2,3]), np.array([4,5,6]) ] )\n",
    "aryinfo(np.c_[np.array([1,2,3]), np.array([4,5,6]) ] )"
   ]
  },
  {
   "cell_type": "code",
   "execution_count": 35,
   "metadata": {
    "collapsed": true
   },
   "outputs": [
    {
     "name": "stdout",
     "output_type": "stream",
     "text": [
      "type : <class 'numpy.ndarray'>\n",
      "shape : (6, 6)\n",
      "dimension : 2\n",
      "dtype : int32\n",
      "array data : \n",
      " [[1 2 3 1 2 3]\n",
      " [4 5 6 4 5 6]\n",
      " [1 2 3 1 2 3]\n",
      " [4 5 6 4 5 6]\n",
      " [1 2 3 1 2 3]\n",
      " [4 5 6 4 5 6]]\n"
     ]
    }
   ],
   "source": [
    "aryinfo(np.tile(np.array([[1,2,3], [4,5,6] ]), (3,2)) ) # 행은 3번, 열은 2번만큼 반복시킴"
   ]
  },
  {
   "cell_type": "markdown",
   "metadata": {},
   "source": [
    "# ndarray delete() 함수\n",
    "* axis 기준 행과 열을 삭제 할 수 있다.\n",
    "* axis 지정하지 않으면 1차원 변환 삭제\n",
    "* 원본 배열을 변경하지 않고 새로운 배열 return\n"
   ]
  },
  {
   "cell_type": "code",
   "execution_count": 36,
   "metadata": {},
   "outputs": [
    {
     "name": "stdout",
     "output_type": "stream",
     "text": [
      "type : <class 'numpy.ndarray'>\n",
      "shape : (3, 4)\n",
      "dimension : 2\n",
      "dtype : int32\n",
      "array data : \n",
      " [[6 3 3 9]\n",
      " [6 0 8 5]\n",
      " [7 6 0 7]]\n"
     ]
    }
   ],
   "source": [
    "arr = np.random.randint(0, 10, (3,4))\n",
    "aryinfo(arr)"
   ]
  },
  {
   "cell_type": "code",
   "execution_count": 41,
   "metadata": {},
   "outputs": [
    {
     "name": "stdout",
     "output_type": "stream",
     "text": [
      "type : <class 'numpy.ndarray'>\n",
      "shape : (11,)\n",
      "dimension : 1\n",
      "dtype : int32\n",
      "array data : \n",
      " [6 3 9 6 0 8 5 7 6 0 7]\n",
      "**************************************************\n",
      "type : <class 'numpy.ndarray'>\n",
      "shape : (3, 4)\n",
      "dimension : 2\n",
      "dtype : int32\n",
      "array data : \n",
      " [[6 3 3 9]\n",
      " [6 0 8 5]\n",
      " [7 6 0 7]]\n",
      "**************************************************\n",
      "type : <class 'numpy.ndarray'>\n",
      "shape : (2, 4)\n",
      "dimension : 2\n",
      "dtype : int32\n",
      "array data : \n",
      " [[6 3 3 9]\n",
      " [7 6 0 7]]\n",
      "type : <class 'numpy.ndarray'>\n",
      "shape : (3, 3)\n",
      "dimension : 2\n",
      "dtype : int32\n",
      "array data : \n",
      " [[6 3 9]\n",
      " [6 8 5]\n",
      " [7 0 7]]\n"
     ]
    }
   ],
   "source": [
    "result = np.delete(arr,1) #1의 의미 인덱스번지인 3을 삭제시켜서 result에 보여줌\n",
    "aryinfo(result)\n",
    "print('*'*50)\n",
    "aryinfo(arr)\n",
    "print('*'*50)\n",
    "result = np.delete(arr, 1, axis = 0) # 축값을 0으로 주면 행을 삭제\n",
    "aryinfo(result)\n",
    "result = np.delete(arr, 1, axis = 1) # 축값을 1로 주면 열을 삭제\n",
    "aryinfo(result)"
   ]
  },
  {
   "cell_type": "markdown",
   "metadata": {},
   "source": [
    "# 배열의 연산\n",
    "* vector operation(명시적으로 반복문을 사용하지 않더라도 모든 원소에 대해서 연산 가능)"
   ]
  },
  {
   "cell_type": "code",
   "execution_count": 68,
   "metadata": {},
   "outputs": [
    {
     "ename": "NameError",
     "evalue": "name 'image' is not defined",
     "output_type": "error",
     "traceback": [
      "\u001b[1;31m---------------------------------------------------------------------------\u001b[0m",
      "\u001b[1;31mNameError\u001b[0m                                 Traceback (most recent call last)",
      "\u001b[1;32m<ipython-input-68-11e78c8dc9d9>\u001b[0m in \u001b[0;36m<module>\u001b[1;34m()\u001b[0m\n\u001b[1;32m----> 1\u001b[1;33m \u001b[0mimage\u001b[0m\u001b[1;33m(\u001b[0m\u001b[1;34m'c:/users/i/numpy_vectorized_operation_img.png'\u001b[0m\u001b[1;33m,\u001b[0m \u001b[0mwidth\u001b[0m \u001b[1;33m=\u001b[0m \u001b[1;36m700\u001b[0m\u001b[1;33m)\u001b[0m\u001b[1;33m\u001b[0m\u001b[0m\n\u001b[0m",
      "\u001b[1;31mNameError\u001b[0m: name 'image' is not defined"
     ]
    }
   ],
   "source": [
    "image('c:/users/i/numpy_vectorized_operation_img.png', width = 700)"
   ]
  },
  {
   "cell_type": "code",
   "execution_count": 45,
   "metadata": {},
   "outputs": [
    {
     "name": "stdout",
     "output_type": "stream",
     "text": [
      "[    1     2     3 ...  9998  9999 10000]\n",
      "[10001 10002 10003 ... 19998 19999 20000]\n"
     ]
    }
   ],
   "source": [
    "x = np.arange(1,10001)\n",
    "print(x)\n",
    "y = np.arange(10001,20001)\n",
    "print(y)"
   ]
  },
  {
   "cell_type": "code",
   "execution_count": 48,
   "metadata": {},
   "outputs": [
    {
     "name": "stdout",
     "output_type": "stream",
     "text": [
      "[0 0 0 ... 0 0 0]\n",
      "[10002 10004 10006 10008 10010 10012 10014 10016 10018 10020]\n",
      "Wall time: 7 ms\n"
     ]
    }
   ],
   "source": [
    "%%time\n",
    "z = np.zeros_like(x)\n",
    "print(z)\n",
    "for i in range(10000):\n",
    "    z[i] = x[i] + y[i]\n",
    "print(z[:10])"
   ]
  },
  {
   "cell_type": "code",
   "execution_count": 49,
   "metadata": {},
   "outputs": [
    {
     "name": "stdout",
     "output_type": "stream",
     "text": [
      "[10002 10004 10006 10008 10010 10012 10014 10016 10018 10020]\n",
      "Wall time: 0 ns\n"
     ]
    }
   ],
   "source": [
    "%%time\n",
    "z = x + y\n",
    "print(z[:10])"
   ]
  },
  {
   "cell_type": "code",
   "execution_count": 54,
   "metadata": {},
   "outputs": [
    {
     "name": "stdout",
     "output_type": "stream",
     "text": [
      "[False  True False  True]\n",
      "[False  True  True  True]\n",
      "False\n",
      "True\n",
      "[10 20 30 40]\n"
     ]
    }
   ],
   "source": [
    "# 비교, 논리 연산도 가능하다\n",
    "x = np.array([1,2,3,4])\n",
    "y = np.array([4,2,2,4])\n",
    "z = np.array([1,2,3,4])\n",
    "\n",
    "print(x == y)\n",
    "print(x >= y)\n",
    "\n",
    "# 배열의 모든 원소가 같은지 다른지를 판단하고 싶다면?\n",
    "print( np.all(x == y) )\n",
    "print( np.all(x == z) )\n",
    "\n",
    "# 스칼라 연산\n",
    "print( x * 10 )"
   ]
  },
  {
   "cell_type": "code",
   "execution_count": 55,
   "metadata": {},
   "outputs": [
    {
     "name": "stdout",
     "output_type": "stream",
     "text": [
      "type : <class 'numpy.ndarray'>\n",
      "shape : (3, 4)\n",
      "dimension : 2\n",
      "dtype : int32\n",
      "array data : \n",
      " [[ 0  1  2  3]\n",
      " [ 4  5  6  7]\n",
      " [ 8  9 10 11]]\n"
     ]
    }
   ],
   "source": [
    "x = np.arange(12).reshape(3,4)\n",
    "aryinfo(x)"
   ]
  },
  {
   "cell_type": "code",
   "execution_count": 56,
   "metadata": {},
   "outputs": [
    {
     "name": "stdout",
     "output_type": "stream",
     "text": [
      "[[   0  100  200  300]\n",
      " [ 400  500  600  700]\n",
      " [ 800  900 1000 1100]]\n"
     ]
    }
   ],
   "source": [
    "print( x * 100)"
   ]
  },
  {
   "cell_type": "markdown",
   "metadata": {},
   "source": [
    "# broadcasting"
   ]
  },
  {
   "cell_type": "code",
   "execution_count": 66,
   "metadata": {},
   "outputs": [
    {
     "ename": "NameError",
     "evalue": "name 'image' is not defined",
     "output_type": "error",
     "traceback": [
      "\u001b[1;31m---------------------------------------------------------------------------\u001b[0m",
      "\u001b[1;31mNameError\u001b[0m                                 Traceback (most recent call last)",
      "\u001b[1;32m<ipython-input-66-854f7fb16733>\u001b[0m in \u001b[0;36m<module>\u001b[1;34m()\u001b[0m\n\u001b[1;32m----> 1\u001b[1;33m \u001b[0mimage\u001b[0m\u001b[1;33m(\u001b[0m\u001b[1;34m'c:/users/i/numpy_broadcasting_img.png'\u001b[0m\u001b[1;33m,\u001b[0m \u001b[0mwidth\u001b[0m \u001b[1;33m=\u001b[0m \u001b[1;36m700\u001b[0m\u001b[1;33m)\u001b[0m\u001b[1;33m\u001b[0m\u001b[0m\n\u001b[0m",
      "\u001b[1;31mNameError\u001b[0m: name 'image' is not defined"
     ]
    }
   ],
   "source": [
    "image('c:/users/i/numpy_broadcasting_img.png', width = 700)"
   ]
  },
  {
   "cell_type": "code",
   "execution_count": 67,
   "metadata": {},
   "outputs": [
    {
     "ename": "NameError",
     "evalue": "name 'image' is not defined",
     "output_type": "error",
     "traceback": [
      "\u001b[1;31m---------------------------------------------------------------------------\u001b[0m",
      "\u001b[1;31mNameError\u001b[0m                                 Traceback (most recent call last)",
      "\u001b[1;32m<ipython-input-67-92cec42328ee>\u001b[0m in \u001b[0;36m<module>\u001b[1;34m()\u001b[0m\n\u001b[1;32m----> 1\u001b[1;33m \u001b[0mimage\u001b[0m\u001b[1;33m(\u001b[0m\u001b[1;34m'c:/users/i/numpy_broadcasting_diff_img.png'\u001b[0m\u001b[1;33m,\u001b[0m \u001b[0mwidth\u001b[0m \u001b[1;33m=\u001b[0m \u001b[1;36m700\u001b[0m\u001b[1;33m)\u001b[0m\u001b[1;33m\u001b[0m\u001b[0m\n\u001b[0m",
      "\u001b[1;31mNameError\u001b[0m: name 'image' is not defined"
     ]
    }
   ],
   "source": [
    "image('c:/users/i/numpy_broadcasting_diff_img.png', width = 700)"
   ]
  },
  {
   "cell_type": "code",
   "execution_count": 72,
   "metadata": {},
   "outputs": [
    {
     "name": "stdout",
     "output_type": "stream",
     "text": [
      "type : <class 'numpy.ndarray'>\n",
      "shape : (5, 3)\n",
      "dimension : 2\n",
      "dtype : int32\n",
      "array data : \n",
      " [[0 1 2]\n",
      " [1 2 3]\n",
      " [2 3 4]\n",
      " [3 4 5]\n",
      " [4 5 6]]\n"
     ]
    }
   ],
   "source": [
    "x = np.vstack([range(7)[i : i+3] for i in range(5) ] )\n",
    "aryinfo(x)"
   ]
  },
  {
   "cell_type": "code",
   "execution_count": 62,
   "metadata": {},
   "outputs": [
    {
     "name": "stdout",
     "output_type": "stream",
     "text": [
      "type : <class 'numpy.ndarray'>\n",
      "shape : (5, 1)\n",
      "dimension : 2\n",
      "dtype : int32\n",
      "array data : \n",
      " [[0]\n",
      " [1]\n",
      " [2]\n",
      " [3]\n",
      " [4]]\n"
     ]
    }
   ],
   "source": [
    "y = np.arange(5) [ : , np.newaxis]\n",
    "aryinfo(y)"
   ]
  },
  {
   "cell_type": "code",
   "execution_count": 63,
   "metadata": {},
   "outputs": [
    {
     "data": {
      "text/plain": [
       "array([[ 0,  1,  2],\n",
       "       [ 2,  3,  4],\n",
       "       [ 4,  5,  6],\n",
       "       [ 6,  7,  8],\n",
       "       [ 8,  9, 10]])"
      ]
     },
     "execution_count": 63,
     "metadata": {},
     "output_type": "execute_result"
    }
   ],
   "source": [
    "x + y"
   ]
  },
  {
   "cell_type": "markdown",
   "metadata": {},
   "source": [
    "* 최대/최소 : min, max, argmin, argmax\n",
    "* 통계 : sum, mean, median, std, var"
   ]
  },
  {
   "cell_type": "code",
   "execution_count": 74,
   "metadata": {},
   "outputs": [
    {
     "name": "stdout",
     "output_type": "stream",
     "text": [
      "type : <class 'numpy.int32'>\n",
      "shape : ()\n",
      "dimension : 0\n",
      "dtype : int32\n",
      "array data : \n",
      " 10\n"
     ]
    }
   ],
   "source": [
    "x = np.array([1,2,3,4])\n",
    "aryinfo(np.sum(x))"
   ]
  },
  {
   "cell_type": "code",
   "execution_count": 75,
   "metadata": {},
   "outputs": [
    {
     "name": "stdout",
     "output_type": "stream",
     "text": [
      "type : <class 'numpy.int32'>\n",
      "shape : ()\n",
      "dimension : 0\n",
      "dtype : int32\n",
      "array data : \n",
      " 10\n"
     ]
    }
   ],
   "source": [
    "aryinfo( x.sum() )"
   ]
  },
  {
   "cell_type": "code",
   "execution_count": 78,
   "metadata": {},
   "outputs": [
    {
     "name": "stdout",
     "output_type": "stream",
     "text": [
      "1\n",
      "4\n"
     ]
    }
   ],
   "source": [
    "print(x.min())\n",
    "print(x.max())"
   ]
  },
  {
   "cell_type": "code",
   "execution_count": 90,
   "metadata": {},
   "outputs": [
    {
     "name": "stdout",
     "output_type": "stream",
     "text": [
      "최소값 인덱스 :  0\n",
      "최대값 인덱스 :  3\n",
      "최대값 :  4\n",
      "최소값 :  1\n",
      "중위수값 :  2.5\n",
      "평균값 :  2.5\n",
      "합 값 :  10\n",
      "**************************************************\n",
      "True\n",
      "False\n"
     ]
    }
   ],
   "source": [
    "print('최소값 인덱스 : ' , x.argmin())   \n",
    "print('최대값 인덱스 : ', x.argmax())\n",
    "print('최대값 : ', x[x.argmax()])\n",
    "print('최소값 : ', x[x.argmin()])\n",
    "print('중위수값 : ', np.median(x))\n",
    "print('평균값 : ', np.mean(x))\n",
    "print('합 값 : ', np.sum(x))\n",
    "\n",
    "print('*' *50)\n",
    "\n",
    "print(np.all([True, True, True]))\n",
    "\n",
    "print(np.all([True, True, False]))\n"
   ]
  },
  {
   "cell_type": "code",
   "execution_count": 94,
   "metadata": {},
   "outputs": [
    {
     "name": "stdout",
     "output_type": "stream",
     "text": [
      "type : <class 'numpy.ndarray'>\n",
      "shape : (100, 100)\n",
      "dimension : 2\n",
      "dtype : int32\n",
      "array data : \n",
      " [[0 0 0 ... 0 0 0]\n",
      " [0 0 0 ... 0 0 0]\n",
      " [0 0 0 ... 0 0 0]\n",
      " ...\n",
      " [0 0 0 ... 0 0 0]\n",
      " [0 0 0 ... 0 0 0]\n",
      " [0 0 0 ... 0 0 0]]\n",
      "False\n",
      "True\n"
     ]
    }
   ],
   "source": [
    "all_matrix = np.zeros( (100,100) , dtype=np.int)\n",
    "aryinfo(all_matrix)\n",
    "\n",
    "print(np.any(all_matrix != 0 )) # 모든값이 0이 아니다\n",
    "print(np.all(all_matrix == all_matrix)) # 모든값이 같다"
   ]
  },
  {
   "cell_type": "code",
   "execution_count": 96,
   "metadata": {},
   "outputs": [
    {
     "name": "stdout",
     "output_type": "stream",
     "text": [
      "True\n"
     ]
    }
   ],
   "source": [
    "x_vector = np.array([1,2,3,2])  #1,2 2,2 3,3 2,2 각각 비교\n",
    "y_vector = np.array([2,2,3,2])\n",
    "z_vector = np.array([6,4,4,5])\n",
    "\n",
    "print( ((x_vector <= y_vector) & (y_vector <= z_vector)).all())"
   ]
  },
  {
   "cell_type": "markdown",
   "metadata": {},
   "source": [
    "# 연산의 대상이 2차원이라면?\n",
    "* axis = 0 열 연산\n",
    "* axis = 1 행 연산 (생략 될 경우 디폴트 값으로 0)"
   ]
  },
  {
   "cell_type": "code",
   "execution_count": 97,
   "metadata": {},
   "outputs": [],
   "source": [
    "x_matrix = np.arange(1, 21, 1).reshape(4,-1)"
   ]
  },
  {
   "cell_type": "code",
   "execution_count": 100,
   "metadata": {},
   "outputs": [
    {
     "name": "stdout",
     "output_type": "stream",
     "text": [
      "[34 38 42 46 50]\n",
      "**************************************************\n",
      "[15 40 65 90]\n"
     ]
    }
   ],
   "source": [
    "print(x_matrix.sum(axis=0))\n",
    "print('*'*50)\n",
    "print(x_matrix.sum(axis=1))"
   ]
  },
  {
   "cell_type": "markdown",
   "metadata": {},
   "source": [
    "* 실수로 이루어진 5 * 6 행렬을 만들고 해당 데이터의 값을 구하시오\n",
    "* 1. 전체의 최대값\n",
    "* 2. 각 행의 합\n",
    "* 3. 각 행의 최대값\n",
    "* 4. 각 열의 평균\n",
    "* 5. 각 열의 최대값"
   ]
  },
  {
   "cell_type": "code",
   "execution_count": 104,
   "metadata": {},
   "outputs": [
    {
     "data": {
      "text/plain": [
       "array([[ 0,  1,  2,  3,  4,  5],\n",
       "       [ 6,  7,  8,  9, 10, 11],\n",
       "       [12, 13, 14, 15, 16, 17],\n",
       "       [18, 19, 20, 21, 22, 23],\n",
       "       [24, 25, 26, 27, 28, 29]])"
      ]
     },
     "execution_count": 104,
     "metadata": {},
     "output_type": "execute_result"
    }
   ],
   "source": [
    "x = np.arange(30).reshape(5,6)\n",
    "x"
   ]
  },
  {
   "cell_type": "code",
   "execution_count": 112,
   "metadata": {},
   "outputs": [
    {
     "name": "stdout",
     "output_type": "stream",
     "text": [
      "29\n",
      "[ 15  51  87 123 159]\n",
      "[ 15  51  87 123 159]\n",
      "[ 5 11 17 23 29]\n",
      "[12. 13. 14. 15. 16. 17.]\n",
      "[24 25 26 27 28 29]\n"
     ]
    }
   ],
   "source": [
    "print(x.max()) \n",
    "print(x.sum(axis=1)) # print(np.sum(x, axis=1))해도 동일 \n",
    "print(x.max(axis=1))\n",
    "print(x.mean(axis=0))\n",
    "print(x.max(axis=0))\n"
   ]
  },
  {
   "cell_type": "markdown",
   "metadata": {},
   "source": [
    "# 정렬\n",
    "* sort()\n",
    "* axis = 0 행을 정렬, 1이면 열을 정렬\n",
    "* inplace = T, F\n",
    "* np.sort() : 정렬된 배열\n",
    "* arr.sort() : 원본이 정렬(inplace = T) -> None"
   ]
  },
  {
   "cell_type": "code",
   "execution_count": 114,
   "metadata": {},
   "outputs": [
    {
     "name": "stdout",
     "output_type": "stream",
     "text": [
      "[3 4 5 7]\n",
      "**************************************************\n",
      "[4 3 5 7]\n"
     ]
    }
   ],
   "source": [
    "x = np.array([4,3,5,7])\n",
    "print(np.sort(x))\n",
    "print('*'*50)   \n",
    "print(x)     #넘파이의 소트는 원본에 변화는 없다"
   ]
  },
  {
   "cell_type": "code",
   "execution_count": 122,
   "metadata": {},
   "outputs": [
    {
     "data": {
      "text/plain": [
       "array([[ 3,  4,  5,  7],\n",
       "       [ 1,  9, 11, 12],\n",
       "       [ 1,  2,  4, 15]])"
      ]
     },
     "execution_count": 122,
     "metadata": {},
     "output_type": "execute_result"
    }
   ],
   "source": [
    "x = np.array([[4,3,5,7], [1,12,11,9], [2,15,1,4]])\n",
    "np.sort(x, axis = 1)"
   ]
  },
  {
   "cell_type": "code",
   "execution_count": 123,
   "metadata": {},
   "outputs": [
    {
     "data": {
      "text/plain": [
       "array([[ 3,  4,  5,  7],\n",
       "       [ 1,  9, 11, 12],\n",
       "       [ 1,  2,  4, 15]])"
      ]
     },
     "execution_count": 123,
     "metadata": {},
     "output_type": "execute_result"
    }
   ],
   "source": [
    "x.sort(axis = 1) #x의 소트는 배열자체가 바뀜\n",
    "x"
   ]
  },
  {
   "cell_type": "markdown",
   "metadata": {},
   "source": [
    "* argsort"
   ]
  },
  {
   "cell_type": "code",
   "execution_count": 124,
   "metadata": {},
   "outputs": [
    {
     "name": "stdout",
     "output_type": "stream",
     "text": [
      "[1 0 2 3]\n",
      "[3 4 5 7]\n"
     ]
    }
   ],
   "source": [
    "x = np.array([4,3,5,7])\n",
    "idx = np.argsort(x)\n",
    "print(idx) # 인덱스번호\n",
    "print(x[idx]) #인덱스번호의 값"
   ]
  },
  {
   "cell_type": "markdown",
   "metadata": {},
   "source": [
    "* 아래 추출한 값을 가지고 내림차순으로 상위 5%까지만 결과를 출력하라면?"
   ]
  },
  {
   "cell_type": "code",
   "execution_count": 128,
   "metadata": {},
   "outputs": [
    {
     "name": "stdout",
     "output_type": "stream",
     "text": [
      "[0 1 2 3 4 5 6 7 8 9]\n",
      "[7 2 1 9 6 4 8 0 3 5]\n",
      "[0 1 2 3 4 5 6 7 8 9]\n",
      "[9 8 7 6 5 4 3 2 1 0]\n"
     ]
    }
   ],
   "source": [
    "# 내림차순\n",
    "arr = np.arange(10)\n",
    "print(arr)\n",
    "np.random.shuffle(arr)\n",
    "print(arr)\n",
    "print(np.sort(arr))\n",
    "print(np.sort(arr)[::-1])"
   ]
  },
  {
   "cell_type": "code",
   "execution_count": 133,
   "metadata": {},
   "outputs": [
    {
     "name": "stdout",
     "output_type": "stream",
     "text": [
      "type : <class 'numpy.ndarray'>\n",
      "shape : (200,)\n",
      "dimension : 1\n",
      "dtype : float64\n",
      "array data : \n",
      " [-0.72378403  1.07639002  0.05921277  0.28878066 -0.24283232 -0.29423678\n",
      "  1.06394327 -1.41386274 -0.29987571 -2.43785782  0.38369837  0.37884671\n",
      "  0.01420209  0.98813509  0.20650049 -0.32196784  0.67185647  0.53544722\n",
      "  1.37222394 -0.37094382 -0.14509128 -1.12894484 -0.15802399 -1.58229724\n",
      " -1.26476663  1.44009642 -1.44307968  0.83916602 -0.19015575 -1.23816388\n",
      "  0.46329787  0.42484758 -0.08052796  0.10951978  1.44565232  0.17564201\n",
      "  0.65549146 -0.81725485  0.84906458 -0.36018253  0.09618155  0.83334473\n",
      " -0.99315706  0.97842483 -1.04127316  2.72615827 -1.01931406  0.74117489\n",
      "  0.38070739  0.48552844 -0.39801505  0.03388987  0.28878365 -0.03110166\n",
      "  0.68878966  0.33347795  0.33604081 -0.50762889 -0.67152656 -1.18206864\n",
      "  0.21152528  0.02198368  1.11407123 -0.93207967 -0.21734229  1.40902273\n",
      " -0.14070439 -1.02773689 -0.64436014 -1.63118284 -0.82197015 -0.93620508\n",
      " -0.17507    -0.6547443   0.18288346 -0.13646963 -0.52812368 -0.30657034\n",
      " -0.53303846  2.49392195  0.22692123  1.01162365  1.09341769  0.49520351\n",
      "  2.11897029 -0.32009382  1.26409775  0.45900404 -1.29870663 -0.35331483\n",
      "  0.92427428  0.91740387 -1.02904606 -0.85170947 -0.16325535 -1.31605719\n",
      "  1.42506085  0.31257191  0.73509973  1.02951442  0.6426951  -0.83823911\n",
      "  0.74426272  0.16341564  1.0376367   0.92443562  0.11347794  2.01714794\n",
      " -0.55826443  1.248918   -0.6505128  -1.69793433  0.73976016 -0.10260183\n",
      "  0.7844965  -0.77770245  0.70378396  0.87221786  1.29112761  1.01138509\n",
      "  0.11586235  0.09763138  0.28757177  0.64328128  0.70764385 -0.87681521\n",
      " -1.2420333  -0.47617627 -1.0752177  -0.3501845   0.75872939 -0.74441753\n",
      "  0.3488515   0.45441532  1.32316027 -0.4482623  -0.67175647  1.00765061\n",
      " -2.40558916 -0.08229694  1.52043233  1.46890676 -1.3623361   0.16543646\n",
      "  1.23810241 -0.31092049 -0.211133   -0.23965357  0.26713937  0.27869118\n",
      " -0.11690906 -0.20579788  0.14709064  0.70378266  1.93761489  0.31958088\n",
      " -1.77789946  0.09329037 -0.5019818  -0.01441856 -0.29730351 -0.75584795\n",
      "  1.66373097  1.74907708  0.40495502 -0.70319448  0.24297229 -0.40648621\n",
      "  0.16020121 -0.25952998 -0.1280185  -0.4501283   0.43106225  0.10122868\n",
      "  0.15950838  1.7829715   1.72302876 -0.39625515  0.65665576  0.14381331\n",
      " -0.17408005 -0.18780646 -1.33020421  1.82583175 -0.18809142  1.42711594\n",
      "  1.51466207 -0.40048828 -0.26786404 -0.01770349  1.95340935  0.03186592\n",
      " -1.64572856  0.5899677  -0.17467612 -0.40182818  0.144239   -0.26727346\n",
      "  0.85017819 -1.1420088 ]\n",
      "**************************************************\n",
      "[2.72615827 2.49392195 2.11897029 2.01714794 1.95340935 1.93761489\n",
      " 1.82583175 1.7829715  1.74907708 1.72302876]\n"
     ]
    }
   ],
   "source": [
    "arr = np.random.randn(200)\n",
    "aryinfo(arr)\n",
    "print('*'*50)\n",
    "\n",
    "result = np.sort(arr)[::-1][:int(0.05 * len(arr))]\n",
    "print(result)"
   ]
  },
  {
   "cell_type": "code",
   "execution_count": null,
   "metadata": {},
   "outputs": [],
   "source": []
  },
  {
   "cell_type": "code",
   "execution_count": null,
   "metadata": {},
   "outputs": [],
   "source": []
  },
  {
   "cell_type": "code",
   "execution_count": null,
   "metadata": {},
   "outputs": [],
   "source": []
  },
  {
   "cell_type": "code",
   "execution_count": null,
   "metadata": {},
   "outputs": [],
   "source": []
  }
 ],
 "metadata": {
  "kernelspec": {
   "display_name": "Python 3",
   "language": "python",
   "name": "python3"
  },
  "language_info": {
   "codemirror_mode": {
    "name": "ipython",
    "version": 3
   },
   "file_extension": ".py",
   "mimetype": "text/x-python",
   "name": "python",
   "nbconvert_exporter": "python",
   "pygments_lexer": "ipython3",
   "version": "3.6.5"
  }
 },
 "nbformat": 4,
 "nbformat_minor": 2
}
