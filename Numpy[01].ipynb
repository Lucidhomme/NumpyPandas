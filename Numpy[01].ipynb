{
 "cells": [
  {
   "cell_type": "markdown",
   "metadata": {},
   "source": [
    "# 학습목표\n",
    "* 배열과 리스트의 차이점\n",
    "* 배열 생성 다루는 기법\n",
    "* 기술 통계\n",
    "* 결과에 대한 분석방법"
   ]
  },
  {
   "cell_type": "markdown",
   "metadata": {},
   "source": [
    "* 넘파이의 배열은 모소 원소가 같은 자료형이어야 한다.\n",
    "* resizing 이 안됨"
   ]
  },
  {
   "cell_type": "markdown",
   "metadata": {},
   "source": [
    "* Vector(1차원 배열) - Pandas(Series)\n",
    "* Matrix(2차원 행렬) - Pandas(DataFrame)"
   ]
  },
  {
   "cell_type": "markdown",
   "metadata": {},
   "source": [
    "* 선형대수(행렬을 이용한 연산 가능)\n"
   ]
  },
  {
   "cell_type": "code",
   "execution_count": 8,
   "metadata": {},
   "outputs": [],
   "source": [
    "import numpy as np"
   ]
  },
  {
   "cell_type": "markdown",
   "metadata": {},
   "source": [
    "* 배열의 차원과 크기, 타입\n",
    "* ndim , shape , dtype"
   ]
  },
  {
   "cell_type": "code",
   "execution_count": 10,
   "metadata": {},
   "outputs": [],
   "source": [
    "def aryinfo(ary):\n",
    "    print('type : {}'.format(type(ary)))\n",
    "    print('shape : {}'.format(ary.shape))\n",
    "    print('dimension : {}'.format(ary.ndim))\n",
    "    print('dtype : {}'.format(ary.dtype))\n",
    "    print('array data : \\n', ary)"
   ]
  },
  {
   "cell_type": "markdown",
   "metadata": {},
   "source": [
    "# 1차원 배열 생성\n",
    "* array()"
   ]
  },
  {
   "cell_type": "code",
   "execution_count": 11,
   "metadata": {},
   "outputs": [
    {
     "name": "stdout",
     "output_type": "stream",
     "text": [
      "type : <class 'numpy.ndarray'>\n",
      "shape : (10,)\n",
      "dimension : 1\n",
      "dtype : int32\n",
      "array data : \n",
      " [0 1 2 3 4 5 6 7 8 9]\n"
     ]
    }
   ],
   "source": [
    "oneAry = np.array([0,1,2,3,4,5,6,7,8,9])\n",
    "aryinfo(oneAry)"
   ]
  },
  {
   "cell_type": "markdown",
   "metadata": {},
   "source": [
    "* List vs Array 차이점(Vector operation)"
   ]
  },
  {
   "cell_type": "code",
   "execution_count": 12,
   "metadata": {},
   "outputs": [
    {
     "data": {
      "text/plain": [
       "[0, 1, 2, 3, 4, 5, 6, 7, 8, 9, 0, 1, 2, 3, 4, 5, 6, 7, 8, 9]"
      ]
     },
     "execution_count": 12,
     "metadata": {},
     "output_type": "execute_result"
    }
   ],
   "source": [
    "data = [0,1,2,3,4,5,6,7,8,9]\n",
    "data *2"
   ]
  },
  {
   "cell_type": "code",
   "execution_count": 13,
   "metadata": {},
   "outputs": [
    {
     "data": {
      "text/plain": [
       "[0, 2, 4, 6, 8, 10, 12, 14, 16, 18]"
      ]
     },
     "execution_count": 13,
     "metadata": {},
     "output_type": "execute_result"
    }
   ],
   "source": [
    "result = []\n",
    "for d in data :\n",
    "    result.append(d*2)\n",
    "result"
   ]
  },
  {
   "cell_type": "code",
   "execution_count": 14,
   "metadata": {},
   "outputs": [
    {
     "data": {
      "text/plain": [
       "[0, 2, 4, 6, 8, 10, 12, 14, 16, 18]"
      ]
     },
     "execution_count": 14,
     "metadata": {},
     "output_type": "execute_result"
    }
   ],
   "source": [
    "result2 = [d * 2 for d in data]\n",
    "result2"
   ]
  },
  {
   "cell_type": "code",
   "execution_count": 15,
   "metadata": {},
   "outputs": [
    {
     "data": {
      "text/plain": [
       "array([ 0,  2,  4,  6,  8, 10, 12, 14, 16, 18])"
      ]
     },
     "execution_count": 15,
     "metadata": {},
     "output_type": "execute_result"
    }
   ],
   "source": [
    "result3 = oneAry *2\n",
    "result3"
   ]
  },
  {
   "cell_type": "markdown",
   "metadata": {},
   "source": [
    "* 벡터 연산은 비교, 산술, 논리 연산을 포함하는 모든 수학연산에 적용됨"
   ]
  },
  {
   "cell_type": "code",
   "execution_count": 16,
   "metadata": {},
   "outputs": [],
   "source": [
    "xAry = np.array([1,2,3])\n",
    "yAry = np.array([10,20,30])"
   ]
  },
  {
   "cell_type": "code",
   "execution_count": 18,
   "metadata": {},
   "outputs": [
    {
     "data": {
      "text/plain": [
       "array([12, 24, 36])"
      ]
     },
     "execution_count": 18,
     "metadata": {},
     "output_type": "execute_result"
    }
   ],
   "source": [
    "2 * xAry + yAry"
   ]
  },
  {
   "cell_type": "code",
   "execution_count": 19,
   "metadata": {},
   "outputs": [
    {
     "data": {
      "text/plain": [
       "array([False,  True, False])"
      ]
     },
     "execution_count": 19,
     "metadata": {},
     "output_type": "execute_result"
    }
   ],
   "source": [
    "xAry == 2"
   ]
  },
  {
   "cell_type": "code",
   "execution_count": 20,
   "metadata": {},
   "outputs": [
    {
     "data": {
      "text/plain": [
       "array([False, False,  True])"
      ]
     },
     "execution_count": 20,
     "metadata": {},
     "output_type": "execute_result"
    }
   ],
   "source": [
    "yAry > 20"
   ]
  },
  {
   "cell_type": "code",
   "execution_count": 21,
   "metadata": {},
   "outputs": [
    {
     "data": {
      "text/plain": [
       "array([False, False, False])"
      ]
     },
     "execution_count": 21,
     "metadata": {},
     "output_type": "execute_result"
    }
   ],
   "source": [
    "(xAry == 2) & (yAry > 20)"
   ]
  },
  {
   "cell_type": "markdown",
   "metadata": {},
   "source": [
    "# 2차원 배열 생성"
   ]
  },
  {
   "cell_type": "markdown",
   "metadata": {},
   "source": [
    "* ndarray(N-dimensional Array)\n",
    "* 2차원, 3차원(다차원 배열 자료구조)\n",
    "* 2차원 배열은 행렬(Matrix)\n",
    "* list of list\n",
    "* list of list of list"
   ]
  },
  {
   "cell_type": "code",
   "execution_count": 31,
   "metadata": {},
   "outputs": [
    {
     "name": "stdout",
     "output_type": "stream",
     "text": [
      "type : <class 'numpy.ndarray'>\n",
      "shape : (2, 3)\n",
      "dimension : 2\n",
      "dtype : float64\n",
      "array data : \n",
      " [[1. 2. 3.]\n",
      " [4. 5. 6.]]\n"
     ]
    }
   ],
   "source": [
    "# 2개의 행과 3개의 열을 가지는 배열 만든다면\n",
    "twoAry = np.array([[1,2,3],[4,5,6]],dtype = np.float64)\n",
    "aryinfo(twoAry)"
   ]
  },
  {
   "cell_type": "code",
   "execution_count": 170,
   "metadata": {},
   "outputs": [
    {
     "name": "stdout",
     "output_type": "stream",
     "text": [
      "2\n",
      "3\n"
     ]
    }
   ],
   "source": [
    "# 행의 개수, 열의 개수\n",
    "print(len(twoAry))\n",
    "print(len(twoAry[0]))"
   ]
  },
  {
   "cell_type": "markdown",
   "metadata": {},
   "source": [
    "# 3차원 배열 생성"
   ]
  },
  {
   "cell_type": "code",
   "execution_count": 43,
   "metadata": {},
   "outputs": [
    {
     "name": "stdout",
     "output_type": "stream",
     "text": [
      "type : <class 'numpy.ndarray'>\n",
      "shape : (2, 3, 4)\n",
      "dimension : 3\n",
      "dtype : int32\n",
      "array data : \n",
      " [[[ 1  2  3  4]\n",
      "  [ 5  6  7  8]\n",
      "  [ 9 10 11 12]]\n",
      "\n",
      " [[13 14 15 16]\n",
      "  [17 18 19 20]\n",
      "  [21 22 23 24]]]\n"
     ]
    }
   ],
   "source": [
    "# 2개의 3행 4열\n",
    "threeAry = np.array([\n",
    "                      [[1,2,3,4], \n",
    "                      [5,6,7,8], \n",
    "                      [9,10,11,12]],\n",
    "                      [[13,14,15,16],\n",
    "                       [17,18,19,20],\n",
    "                       [21,22,23,24]                        \n",
    "                      ]\n",
    "                    ])\n",
    "aryinfo(threeAry)"
   ]
  },
  {
   "cell_type": "code",
   "execution_count": 44,
   "metadata": {},
   "outputs": [
    {
     "name": "stdout",
     "output_type": "stream",
     "text": [
      "dept 2\n",
      "row 3\n",
      "row 3\n",
      "row[0] col 4\n"
     ]
    }
   ],
   "source": [
    "print('dept', len(threeAry))\n",
    "print('row', len(threeAry[0]))\n",
    "print('row', len(threeAry[1]))\n",
    "print('row[0] col', len(threeAry[0][0]))"
   ]
  },
  {
   "cell_type": "markdown",
   "metadata": {},
   "source": [
    "* 요소의 타입을 변경할 때는 astype()"
   ]
  },
  {
   "cell_type": "code",
   "execution_count": 47,
   "metadata": {},
   "outputs": [
    {
     "name": "stdout",
     "output_type": "stream",
     "text": [
      "type : <class 'numpy.ndarray'>\n",
      "shape : (2, 3, 4)\n",
      "dimension : 3\n",
      "dtype : float64\n",
      "array data : \n",
      " [[[ 1.  2.  3.  4.]\n",
      "  [ 5.  6.  7.  8.]\n",
      "  [ 9. 10. 11. 12.]]\n",
      "\n",
      " [[13. 14. 15. 16.]\n",
      "  [17. 18. 19. 20.]\n",
      "  [21. 22. 23. 24.]]]\n"
     ]
    }
   ],
   "source": [
    "typeChange = threeAry.astype(np.float64)\n",
    "aryinfo(typeChange)"
   ]
  },
  {
   "cell_type": "code",
   "execution_count": 49,
   "metadata": {},
   "outputs": [
    {
     "name": "stdout",
     "output_type": "stream",
     "text": [
      "type : <class 'numpy.ndarray'>\n",
      "shape : (7,)\n",
      "dimension : 1\n",
      "dtype : int32\n",
      "array data : \n",
      " [1 2 3 4 5 6 7]\n"
     ]
    }
   ],
   "source": [
    "indexAry = np.array([1,2,3,4,5,6,7])\n",
    "aryinfo(indexAry)"
   ]
  },
  {
   "cell_type": "code",
   "execution_count": 54,
   "metadata": {},
   "outputs": [
    {
     "name": "stdout",
     "output_type": "stream",
     "text": [
      "1\n",
      "7\n"
     ]
    }
   ],
   "source": [
    "print(indexAry[0])\n",
    "print(indexAry[-1])"
   ]
  },
  {
   "cell_type": "code",
   "execution_count": 57,
   "metadata": {
    "collapsed": true
   },
   "outputs": [
    {
     "name": "stdout",
     "output_type": "stream",
     "text": [
      "1.0\n",
      "2.0\n",
      "6.0\n"
     ]
    }
   ],
   "source": [
    "# twoAry indexing\n",
    "\n",
    "# 첫번째 행의 첫번째 열\n",
    "print(twoAry[0,0])\n",
    "# 첫번째 행의 두번째 열\n",
    "print(twoAry[0,1])\n",
    "# 마지막 행의 마지막 열\n",
    "print(twoAry[-1,-1])"
   ]
  },
  {
   "cell_type": "code",
   "execution_count": 59,
   "metadata": {
    "collapsed": true
   },
   "outputs": [
    {
     "name": "stdout",
     "output_type": "stream",
     "text": [
      "[1 2 3 4]\n",
      "[2 6]\n",
      "[6 7 8]\n"
     ]
    }
   ],
   "source": [
    "slicingAry = np.array([ [1,2,3,4], [5,6,7,8]  ])\n",
    "\n",
    "# 첫번째 행의 전체\n",
    "print(slicingAry[0,:])\n",
    "# 두번째 열의 전체\n",
    "print(slicingAry[:,1])\n",
    "# 두번째 행의 두번째 열부터 끝까지\n",
    "print(slicingAry[1,1:])"
   ]
  },
  {
   "cell_type": "code",
   "execution_count": 69,
   "metadata": {
    "collapsed": true
   },
   "outputs": [
    {
     "name": "stdout",
     "output_type": "stream",
     "text": [
      "type : <class 'numpy.ndarray'>\n",
      "shape : (3, 5)\n",
      "dimension : 2\n",
      "dtype : int32\n",
      "array data : \n",
      " [[ 0  1  2  3  4]\n",
      " [ 5  6  7  8  9]\n",
      " [10 11 12 13 14]]\n",
      "7\n",
      "14\n",
      "[6 7]\n",
      "[ 7 12]\n",
      "[[3 4]\n",
      " [8 9]]\n"
     ]
    }
   ],
   "source": [
    "m = np.array([[ 0,  1,  2,  3,  4],\n",
    "            [ 5,  6,  7,  8,  9],\n",
    "            [10, 11, 12, 13, 14]])\n",
    "aryinfo(m)\n",
    "\n",
    "# 이 행렬에서 값 7을 인덱싱한다\n",
    "print(m[1,2])\n",
    "# 이 행렬에서 값 14를 인덱싱한다\n",
    "print(m[-1,-1])\n",
    "# 이 행렬에서 배열 [6,7]을 슬라이싱한다\n",
    "print(m[1,1:3])\n",
    "# 이 행렬에서 배열 [7,12]을 슬라이싱한다\n",
    "print(m[1:3,2])\n",
    "# 이 행렬에서 배열 [[3,4], [8,9]]을 슬라이싱한다\n",
    "print(m[0:2,3:5])"
   ]
  },
  {
   "cell_type": "markdown",
   "metadata": {},
   "source": [
    "* fancy indexing\n",
    "* boolean indexing"
   ]
  },
  {
   "cell_type": "code",
   "execution_count": 73,
   "metadata": {},
   "outputs": [
    {
     "name": "stdout",
     "output_type": "stream",
     "text": [
      "type : <class 'numpy.ndarray'>\n",
      "shape : (10,)\n",
      "dimension : 1\n",
      "dtype : int32\n",
      "array data : \n",
      " [0 1 2 3 4 5 6 7 8 9]\n",
      "[0 2 4 6 8]\n"
     ]
    }
   ],
   "source": [
    "arr = np.array([0,1,2,3,4,5,6,7,8,9])\n",
    "aryinfo(arr)\n",
    "idx = np.array([True, False, True, False, True, False, True, False, True, False])\n",
    "print(arr[idx])"
   ]
  },
  {
   "cell_type": "code",
   "execution_count": 76,
   "metadata": {},
   "outputs": [
    {
     "data": {
      "text/plain": [
       "array([ True, False,  True, False,  True, False,  True, False,  True,\n",
       "       False])"
      ]
     },
     "execution_count": 76,
     "metadata": {},
     "output_type": "execute_result"
    }
   ],
   "source": [
    "arr % 2 == 0"
   ]
  },
  {
   "cell_type": "code",
   "execution_count": 79,
   "metadata": {},
   "outputs": [
    {
     "data": {
      "text/plain": [
       "array([0, 2, 4, 6, 8])"
      ]
     },
     "execution_count": 79,
     "metadata": {},
     "output_type": "execute_result"
    }
   ],
   "source": [
    "arr[arr % 2 == 0]  #불리언 인덱싱"
   ]
  },
  {
   "cell_type": "code",
   "execution_count": 85,
   "metadata": {},
   "outputs": [
    {
     "name": "stdout",
     "output_type": "stream",
     "text": [
      "[0 2 4 6 8]\n"
     ]
    }
   ],
   "source": [
    "cntIdx = np.array([0,2,4,6,8])\n",
    "print(arr[cntIdx])"
   ]
  },
  {
   "cell_type": "code",
   "execution_count": 86,
   "metadata": {},
   "outputs": [
    {
     "name": "stdout",
     "output_type": "stream",
     "text": [
      "type : <class 'numpy.ndarray'>\n",
      "shape : (20,)\n",
      "dimension : 1\n",
      "dtype : int32\n",
      "array data : \n",
      " [ 1  2  3  4  5  6  7  8  9 10 11 12 13 14 15 16 17 18 19 20]\n",
      "[ 3  6  9 12 15 18]\n",
      "[ 1  5  9 13 17]\n",
      "[9]\n"
     ]
    }
   ],
   "source": [
    "x = np.array([1, 2, 3, 4, 5, 6, 7, 8, 9, 10,\n",
    "             11, 12, 13, 14, 15, 16, 17, 18, 19, 20])\n",
    "aryinfo(x)\n",
    "# 이 배열에서 3의 배수를 찾아라\n",
    "print(x[x % 3 == 0])\n",
    "\n",
    "# 이 배열에서 4로 나누면 1이 남는 수를 찾아라\n",
    "print(x[x % 4 == 1])\n",
    "\n",
    "# 이 배열에서 3으로 나누면 나누어지고 4로 나누면 1이 남는 수를 찾아라\n",
    "print(x[(x % 3 ==0) & (x % 4 ==  1)])"
   ]
  },
  {
   "cell_type": "code",
   "execution_count": 90,
   "metadata": {},
   "outputs": [
    {
     "name": "stdout",
     "output_type": "stream",
     "text": [
      "type : <class 'numpy.ndarray'>\n",
      "shape : (3, 4)\n",
      "dimension : 2\n",
      "dtype : int32\n",
      "array data : \n",
      " [[ 0  1  2  3]\n",
      " [ 4  5  6  7]\n",
      " [ 8  9 10 11]]\n"
     ]
    }
   ],
   "source": [
    "# 배열에 index 배열을 전달하여 배열 요소를 참조해 보자\n",
    "fancyAry = np.arange(0, 12, 1).reshape(3,4)\n",
    "aryinfo(fancyAry)"
   ]
  },
  {
   "cell_type": "code",
   "execution_count": 95,
   "metadata": {},
   "outputs": [
    {
     "data": {
      "text/plain": [
       "10"
      ]
     },
     "execution_count": 95,
     "metadata": {},
     "output_type": "execute_result"
    }
   ],
   "source": [
    "# 10값을 가져온다면?\n",
    "fancyAry[2,2]"
   ]
  },
  {
   "cell_type": "code",
   "execution_count": 97,
   "metadata": {},
   "outputs": [
    {
     "data": {
      "text/plain": [
       "array([6])"
      ]
     },
     "execution_count": 97,
     "metadata": {},
     "output_type": "execute_result"
    }
   ],
   "source": [
    "# 6값을 가져온다면?\n",
    "fancyAry[1:2,2]"
   ]
  },
  {
   "cell_type": "code",
   "execution_count": 107,
   "metadata": {},
   "outputs": [
    {
     "name": "stdout",
     "output_type": "stream",
     "text": [
      "type : <class 'numpy.ndarray'>\n",
      "shape : (1, 1)\n",
      "dimension : 2\n",
      "dtype : int32\n",
      "array data : \n",
      " [[5]]\n"
     ]
    }
   ],
   "source": [
    "aryinfo(fancyAry[1:2, 1:2])"
   ]
  },
  {
   "cell_type": "code",
   "execution_count": 105,
   "metadata": {},
   "outputs": [
    {
     "name": "stdout",
     "output_type": "stream",
     "text": [
      "type : <class 'numpy.ndarray'>\n",
      "shape : (2,)\n",
      "dimension : 1\n",
      "dtype : int32\n",
      "array data : \n",
      " [ 2 10]\n"
     ]
    }
   ],
   "source": [
    "# 2와 10을 가져온다면?\n",
    "aryinfo(fancyAry[[0,2],2])"
   ]
  },
  {
   "cell_type": "code",
   "execution_count": 108,
   "metadata": {},
   "outputs": [
    {
     "name": "stdout",
     "output_type": "stream",
     "text": [
      "type : <class 'numpy.ndarray'>\n",
      "shape : (2, 1)\n",
      "dimension : 2\n",
      "dtype : int32\n",
      "array data : \n",
      " [[ 2]\n",
      " [10]]\n"
     ]
    }
   ],
   "source": [
    "aryinfo(fancyAry[ [0,2], 2:3 ])"
   ]
  },
  {
   "cell_type": "code",
   "execution_count": 172,
   "metadata": {},
   "outputs": [
    {
     "data": {
      "text/plain": [
       "array([ 0, 10])"
      ]
     },
     "execution_count": 172,
     "metadata": {},
     "output_type": "execute_result"
    }
   ],
   "source": [
    "fancyAry[ [0,2],[0,2] ] # 0,2,8,10 나오게 추출해야하는데 이 방식으로는 안됨"
   ]
  },
  {
   "cell_type": "code",
   "execution_count": 113,
   "metadata": {},
   "outputs": [
    {
     "name": "stdout",
     "output_type": "stream",
     "text": [
      "[[ 0  2]\n",
      " [ 8 10]]\n"
     ]
    }
   ],
   "source": [
    "rowIdx = np.array([0,2])\n",
    "colIdx = np.array([0,2])\n",
    "print(fancyAry[rowIdx][:,colIdx] )  # fancyAry[][] 형태이용"
   ]
  },
  {
   "cell_type": "markdown",
   "metadata": {},
   "source": [
    "# 배열 변형(타입, 형태)"
   ]
  },
  {
   "cell_type": "code",
   "execution_count": 116,
   "metadata": {},
   "outputs": [
    {
     "name": "stdout",
     "output_type": "stream",
     "text": [
      "type : <class 'numpy.ndarray'>\n",
      "shape : (3,)\n",
      "dimension : 1\n",
      "dtype : <U1\n",
      "array data : \n",
      " ['1' '2' '3']\n"
     ]
    }
   ],
   "source": [
    "x = np.array([1,2,3,] , dtype = 'U')\n",
    "aryinfo(x)"
   ]
  },
  {
   "cell_type": "code",
   "execution_count": 117,
   "metadata": {},
   "outputs": [
    {
     "data": {
      "text/plain": [
       "'12'"
      ]
     },
     "execution_count": 117,
     "metadata": {},
     "output_type": "execute_result"
    }
   ],
   "source": [
    "x[0] + x[1]"
   ]
  },
  {
   "cell_type": "markdown",
   "metadata": {},
   "source": [
    "* inf vs NaN"
   ]
  },
  {
   "cell_type": "code",
   "execution_count": 121,
   "metadata": {},
   "outputs": [
    {
     "name": "stderr",
     "output_type": "stream",
     "text": [
      "C:\\Users\\i\\Anaconda3\\lib\\site-packages\\ipykernel_launcher.py:1: RuntimeWarning: divide by zero encountered in true_divide\n",
      "  \"\"\"Entry point for launching an IPython kernel.\n",
      "C:\\Users\\i\\Anaconda3\\lib\\site-packages\\ipykernel_launcher.py:1: RuntimeWarning: invalid value encountered in true_divide\n",
      "  \"\"\"Entry point for launching an IPython kernel.\n"
     ]
    },
    {
     "data": {
      "text/plain": [
       "array([  0.,  inf, -inf,  nan])"
      ]
     },
     "execution_count": 121,
     "metadata": {},
     "output_type": "execute_result"
    }
   ],
   "source": [
    "np.array([0,1,-1,0] / np.array([1,0,0,0]) )"
   ]
  },
  {
   "cell_type": "markdown",
   "metadata": {},
   "source": [
    "* zeros , ones\n",
    "* zeros_like , ones_like\n",
    "* empty\n",
    "* arange\n",
    "* linspace, logspace"
   ]
  },
  {
   "cell_type": "markdown",
   "metadata": {},
   "source": [
    "* zeros : 크기가 정해져 있고 모든 값이 0인 배열을 생성하려면"
   ]
  },
  {
   "cell_type": "code",
   "execution_count": 129,
   "metadata": {},
   "outputs": [
    {
     "name": "stdout",
     "output_type": "stream",
     "text": [
      "type : <class 'numpy.ndarray'>\n",
      "shape : (5,)\n",
      "dimension : 1\n",
      "dtype : <U1\n",
      "array data : \n",
      " ['' '' '' '' '']\n"
     ]
    }
   ],
   "source": [
    "z = np.zeros(5, dtype = 'U')\n",
    "aryinfo(z)"
   ]
  },
  {
   "cell_type": "code",
   "execution_count": 128,
   "metadata": {},
   "outputs": [
    {
     "name": "stdout",
     "output_type": "stream",
     "text": [
      "type : <class 'numpy.ndarray'>\n",
      "shape : (2, 3)\n",
      "dimension : 2\n",
      "dtype : int32\n",
      "array data : \n",
      " [[0 0 0]\n",
      " [0 0 0]]\n"
     ]
    }
   ],
   "source": [
    "z = np.zeros((2,3), dtype = 'i')\n",
    "aryinfo(z)"
   ]
  },
  {
   "cell_type": "code",
   "execution_count": 132,
   "metadata": {},
   "outputs": [
    {
     "name": "stdout",
     "output_type": "stream",
     "text": [
      "type : <class 'numpy.ndarray'>\n",
      "shape : (2, 3, 4)\n",
      "dimension : 3\n",
      "dtype : int64\n",
      "array data : \n",
      " [[[1 1 1 1]\n",
      "  [1 1 1 1]\n",
      "  [1 1 1 1]]\n",
      "\n",
      " [[1 1 1 1]\n",
      "  [1 1 1 1]\n",
      "  [1 1 1 1]]]\n"
     ]
    }
   ],
   "source": [
    "o = np.ones((2,3,4), dtype = 'i8')\n",
    "aryinfo(o)"
   ]
  },
  {
   "cell_type": "code",
   "execution_count": 133,
   "metadata": {},
   "outputs": [
    {
     "name": "stdout",
     "output_type": "stream",
     "text": [
      "type : <class 'numpy.ndarray'>\n",
      "shape : (2, 3, 4)\n",
      "dimension : 3\n",
      "dtype : float32\n",
      "array data : \n",
      " [[[1. 1. 1. 1.]\n",
      "  [1. 1. 1. 1.]\n",
      "  [1. 1. 1. 1.]]\n",
      "\n",
      " [[1. 1. 1. 1.]\n",
      "  [1. 1. 1. 1.]\n",
      "  [1. 1. 1. 1.]]]\n"
     ]
    }
   ],
   "source": [
    "o_like = np.ones_like(o, dtype = 'f') #카피\n",
    "aryinfo(o_like)"
   ]
  },
  {
   "cell_type": "code",
   "execution_count": 134,
   "metadata": {},
   "outputs": [
    {
     "name": "stdout",
     "output_type": "stream",
     "text": [
      "type : <class 'numpy.ndarray'>\n",
      "shape : (5,)\n",
      "dimension : 1\n",
      "dtype : <U1\n",
      "array data : \n",
      " ['' '' '' '' '']\n"
     ]
    }
   ],
   "source": [
    "z_like = np.zeros_like(z)\n",
    "aryinfo(z_like)"
   ]
  },
  {
   "cell_type": "code",
   "execution_count": 137,
   "metadata": {},
   "outputs": [
    {
     "name": "stdout",
     "output_type": "stream",
     "text": [
      "type : <class 'numpy.ndarray'>\n",
      "shape : (4, 3)\n",
      "dimension : 2\n",
      "dtype : float64\n",
      "array data : \n",
      " [[0.0078125 0.0078125 0.0078125]\n",
      " [0.0078125 0.0078125 0.0078125]\n",
      " [0.0078125 0.0078125 0.0078125]\n",
      " [0.0078125 0.0078125 0.0078125]]\n"
     ]
    }
   ],
   "source": [
    "e = np.empty((4,3))  #경로값 출력\n",
    "aryinfo(e)"
   ]
  },
  {
   "cell_type": "code",
   "execution_count": 138,
   "metadata": {},
   "outputs": [
    {
     "name": "stdout",
     "output_type": "stream",
     "text": [
      "type : <class 'numpy.ndarray'>\n",
      "shape : (10,)\n",
      "dimension : 1\n",
      "dtype : int32\n",
      "array data : \n",
      " [0 1 2 3 4 5 6 7 8 9]\n"
     ]
    }
   ],
   "source": [
    "a = np.arange(10)\n",
    "aryinfo(a)"
   ]
  },
  {
   "cell_type": "code",
   "execution_count": 139,
   "metadata": {},
   "outputs": [
    {
     "name": "stdout",
     "output_type": "stream",
     "text": [
      "type : <class 'numpy.ndarray'>\n",
      "shape : (9,)\n",
      "dimension : 1\n",
      "dtype : int32\n",
      "array data : \n",
      " [ 3  5  7  9 11 13 15 17 19]\n"
     ]
    }
   ],
   "source": [
    "a = np.arange(3,21,2)\n",
    "aryinfo(a)"
   ]
  },
  {
   "cell_type": "markdown",
   "metadata": {},
   "source": [
    "* 전치행렬 : 행렬의 행은 열로, 열은 행으로 바꾼 행렬\n",
    "* 속성 T \n",
    "* transpose opetion"
   ]
  },
  {
   "cell_type": "code",
   "execution_count": 141,
   "metadata": {},
   "outputs": [
    {
     "name": "stdout",
     "output_type": "stream",
     "text": [
      "type : <class 'numpy.ndarray'>\n",
      "shape : (2, 3)\n",
      "dimension : 2\n",
      "dtype : int32\n",
      "array data : \n",
      " [[1 2 3]\n",
      " [4 5 6]]\n"
     ]
    }
   ],
   "source": [
    "arr = np.array([ [1,2,3,],[4,5,6] ])\n",
    "aryinfo(arr)"
   ]
  },
  {
   "cell_type": "code",
   "execution_count": 142,
   "metadata": {},
   "outputs": [
    {
     "name": "stdout",
     "output_type": "stream",
     "text": [
      "type : <class 'numpy.ndarray'>\n",
      "shape : (3, 2)\n",
      "dimension : 2\n",
      "dtype : int32\n",
      "array data : \n",
      " [[1 4]\n",
      " [2 5]\n",
      " [3 6]]\n"
     ]
    }
   ],
   "source": [
    "arr_transpose = arr.T\n",
    "aryinfo(arr_transpose)"
   ]
  },
  {
   "cell_type": "code",
   "execution_count": 143,
   "metadata": {},
   "outputs": [
    {
     "name": "stdout",
     "output_type": "stream",
     "text": [
      "type : <class 'numpy.ndarray'>\n",
      "shape : (10,)\n",
      "dimension : 1\n",
      "dtype : int32\n",
      "array data : \n",
      " [0 1 2 3 4 5 6 7 8 9]\n"
     ]
    }
   ],
   "source": [
    "# Vector에 transpose 가능할까?\n",
    "vec = np.arange(10)\n",
    "aryinfo(vec)"
   ]
  },
  {
   "cell_type": "code",
   "execution_count": 144,
   "metadata": {},
   "outputs": [
    {
     "name": "stdout",
     "output_type": "stream",
     "text": [
      "type : <class 'numpy.ndarray'>\n",
      "shape : (10,)\n",
      "dimension : 1\n",
      "dtype : int32\n",
      "array data : \n",
      " [0 1 2 3 4 5 6 7 8 9]\n"
     ]
    }
   ],
   "source": [
    "vec_transpose = vec.T  # 가능하지만 의미가 없음 \n",
    "aryinfo(vec_transpose)"
   ]
  },
  {
   "cell_type": "code",
   "execution_count": 146,
   "metadata": {},
   "outputs": [
    {
     "name": "stdout",
     "output_type": "stream",
     "text": [
      "type : <class 'numpy.ndarray'>\n",
      "shape : (10, 1)\n",
      "dimension : 2\n",
      "dtype : int32\n",
      "array data : \n",
      " [[0]\n",
      " [1]\n",
      " [2]\n",
      " [3]\n",
      " [4]\n",
      " [5]\n",
      " [6]\n",
      " [7]\n",
      " [8]\n",
      " [9]]\n"
     ]
    }
   ],
   "source": [
    "vec_transpose = vec.reshape(1,10).T\n",
    "aryinfo(vec_transpose)"
   ]
  },
  {
   "cell_type": "markdown",
   "metadata": {},
   "source": [
    "* 배열의 원소를 순차적으로 access 하고자 한다면?\n",
    "* for (Vector , Matrix)\n",
    "* iterator(internext(), finished 속성을 이용해서 ndarray 모든 요소를 순차적으로 접근할 수 있다)"
   ]
  },
  {
   "cell_type": "code",
   "execution_count": 148,
   "metadata": {},
   "outputs": [],
   "source": [
    "arr = np.array([1,2,3,4,5])"
   ]
  },
  {
   "cell_type": "code",
   "execution_count": 151,
   "metadata": {},
   "outputs": [
    {
     "name": "stdout",
     "output_type": "stream",
     "text": [
      "1 2 3 4 5 "
     ]
    }
   ],
   "source": [
    "for tmp in arr :\n",
    "    print(tmp, end=\" \")"
   ]
  },
  {
   "cell_type": "code",
   "execution_count": 152,
   "metadata": {},
   "outputs": [
    {
     "name": "stdout",
     "output_type": "stream",
     "text": [
      "1 2 3 4 5 "
     ]
    }
   ],
   "source": [
    "for idx in range(len(arr)):\n",
    "    print(arr[idx], end=\" \")"
   ]
  },
  {
   "cell_type": "code",
   "execution_count": 156,
   "metadata": {},
   "outputs": [
    {
     "name": "stdout",
     "output_type": "stream",
     "text": [
      "1 2 3 4 5 "
     ]
    }
   ],
   "source": [
    "# ite = np.nditer(arr, flags=['c_index'])\n",
    "# while not ite.finished :\n",
    "#     print(arr[ite.index], end=\" \")\n",
    "#     ite.iternext()"
   ]
  },
  {
   "cell_type": "code",
   "execution_count": 158,
   "metadata": {},
   "outputs": [
    {
     "name": "stdout",
     "output_type": "stream",
     "text": [
      "type : <class 'numpy.ndarray'>\n",
      "shape : (2, 3)\n",
      "dimension : 2\n",
      "dtype : int32\n",
      "array data : \n",
      " [[1 2 3]\n",
      " [4 5 6]]\n"
     ]
    }
   ],
   "source": [
    "arr = np.array([ [1,2,3],[4,5,6] ])\n",
    "aryinfo(arr)"
   ]
  },
  {
   "cell_type": "code",
   "execution_count": 166,
   "metadata": {},
   "outputs": [
    {
     "name": "stdout",
     "output_type": "stream",
     "text": [
      "1\n",
      "2\n",
      "3\n",
      "\n",
      "\n",
      "4\n",
      "5\n",
      "6\n",
      "\n",
      "\n"
     ]
    }
   ],
   "source": [
    "# 2차원 배열에 대한 순차적 접근 코드 작성\n",
    "# print(arr.shape[0]) : row\n",
    "# print(arr.shape[1]) : col\n",
    "\n",
    "for i in range(arr.shape[0]):\n",
    "    for j in range(arr.shape[1]) :\n",
    "        print(arr[i][j] , end = '\\n')\n",
    "    print('\\n')"
   ]
  },
  {
   "cell_type": "code",
   "execution_count": 167,
   "metadata": {},
   "outputs": [
    {
     "name": "stdout",
     "output_type": "stream",
     "text": [
      "1 2 3 4 5 6 "
     ]
    }
   ],
   "source": [
    "ite = np.nditer(arr, flags=['multi_index'])\n",
    "while not ite.finished :\n",
    "    print(arr[ite.multi_index], end= \" \")\n",
    "    ite.iternext()"
   ]
  },
  {
   "cell_type": "code",
   "execution_count": null,
   "metadata": {},
   "outputs": [],
   "source": []
  },
  {
   "cell_type": "code",
   "execution_count": null,
   "metadata": {},
   "outputs": [],
   "source": []
  },
  {
   "cell_type": "code",
   "execution_count": null,
   "metadata": {},
   "outputs": [],
   "source": []
  }
 ],
 "metadata": {
  "kernelspec": {
   "display_name": "Python 3",
   "language": "python",
   "name": "python3"
  },
  "language_info": {
   "codemirror_mode": {
    "name": "ipython",
    "version": 3
   },
   "file_extension": ".py",
   "mimetype": "text/x-python",
   "name": "python",
   "nbconvert_exporter": "python",
   "pygments_lexer": "ipython3",
   "version": "3.6.5"
  }
 },
 "nbformat": 4,
 "nbformat_minor": 2
}
